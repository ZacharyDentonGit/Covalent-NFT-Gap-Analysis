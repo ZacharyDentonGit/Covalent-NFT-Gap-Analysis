{
 "cells": [
  {
   "cell_type": "markdown",
   "metadata": {},
   "source": [
    "Connect to NFT Data via Covalent API Call and write to dataframe."
   ]
  },
  {
   "cell_type": "code",
   "execution_count": 115,
   "metadata": {},
   "outputs": [
    {
     "name": "stdout",
     "output_type": "stream",
     "text": [
      "Error: API request failed with status code 401\n",
      "Error: API request failed with status code 401\n",
      "Error: API request failed with status code 401\n"
     ]
    }
   ],
   "source": [
    "import requests\n",
    "import pandas as pd\n",
    "from dotenv import load_dotenv\n",
    "import os\n",
    "\n",
    "# Load environment variables from .env file\n",
    "load_dotenv()\n",
    "\n",
    "# Access the API key from the environment variable\n",
    "api_key = os.getenv(\"API_KEY\")\n",
    "chains = [\"eth-mainnet\", \"matic-mainnet\", \"optimism-mainnet\"]  # Replace with desired chains\n",
    "\n",
    "for chain in chains:\n",
    "    url = f\"https://api.covalenthq.com/v1/{chain}/nft/collections/\"\n",
    "    headers = {\"Authorization\": f\"Bearer {api_key}\"}\n",
    "    response = requests.request(\"GET\", url, headers=headers, data=payload)\n",
    "\n",
    "    # Check for successful response\n",
    "    if response.status_code == 200:\n",
    "        try:\n",
    "            # Convert JSON response to Python dictionary\n",
    "            data = response.json()\n",
    "            \n",
    "            # Check if data contains collections (might vary based on API response)\n",
    "            if data.get(\"data\", {}).get(\"items\"):\n",
    "                collections_data = []\n",
    "                chain_name= data[\"data\"].get(\"chain_name\")\n",
    "                for item in data[\"data\"][\"items\"]:\n",
    "                    # Extract relevant data from each collection (replace with desired keys) \n",
    "                    #print(f\"Chain Name: {chain_name}\"),\n",
    "                    collection_data = {\n",
    "                        \"chain_name\": chain_name,  # Assign chain_name to each collection\n",
    "                        \"contract_name\": item.get(\"contract_name\"),\n",
    "                        \"contract_address\": item.get(\"contract_address\"),\n",
    "                        # Add more data points as needed (refer to Covalent API documentation)\n",
    "                    }\n",
    "                    collections_data.append(collection_data)\n",
    "                # Create DataFrame from the extracted data\n",
    "                df_nft = pd.DataFrame(collections_data)\n",
    "                print(df_nft)\n",
    "            else:\n",
    "                print(\"No collections found in the response data.\")\n",
    "        except Exception as e:\n",
    "            print(f\"Error processing response: {e}\")\n",
    "    else:\n",
    "        print(f\"Error: API request failed with status code {response.status_code}\")\n"
   ]
  },
  {
   "cell_type": "markdown",
   "metadata": {},
   "source": [
    "NFTs not in Covalent From Etherium, Polygon, and Optimism. (All collections were picked based on volume and trend.)"
   ]
  },
  {
   "cell_type": "code",
   "execution_count": 118,
   "metadata": {},
   "outputs": [
    {
     "name": "stdout",
     "output_type": "stream",
     "text": [
      "False\n"
     ]
    }
   ],
   "source": [
    "# Three Etherium NFT contract adresses, pulled from Opensea and Etherscan that are not included in the covalent nft data\n",
    "not_in_cov_eth = df_nft['contract_address'].isin([\n",
    "    \"0xcB28749c24AF4797808364D71d71539bc01E76d4\", # based punks\n",
    "    \"0xF1F991D07a4C142B550C9dCB9576B9B34083Ed58\", # Degens by Doy\n",
    "    \"0x78048FeB296975E6Ae7347f94b1a6D8d91a6F286\", # DegenerativeGame\n",
    "]).any()\n",
    "\n",
    "print(not_in_cov_eth)\n",
    "\n"
   ]
  },
  {
   "cell_type": "code",
   "execution_count": 119,
   "metadata": {},
   "outputs": [
    {
     "name": "stdout",
     "output_type": "stream",
     "text": [
      "False\n"
     ]
    }
   ],
   "source": [
    "# Three Polygon NFT contract adresses, pulled from Opensea and Polyscan that are not included in the covalent nft data\n",
    "not_in_cov_poly = df_nft['contract_address'].isin([\n",
    "    \"0x9bFC3c73A4aFE936C1d9EBBE869Fb4fF879491Fb\", # Master Punks Official Club\n",
    "    \"0x05df72d911e52AB122f7d9955728BC96A718782C\", # Cyberkongs VX\n",
    "    \"0xa7D50EE3D7485288107664cf758E877a0D351725\"  # Crypto Unicorns\n",
    "]).any()\n",
    "\n",
    "print(not_in_cov_poly)"
   ]
  },
  {
   "cell_type": "code",
   "execution_count": 120,
   "metadata": {},
   "outputs": [
    {
     "name": "stdout",
     "output_type": "stream",
     "text": [
      "False\n"
     ]
    }
   ],
   "source": [
    "# Three Optimism NFT contract adresses, pulled from Opensea and Optimistic.etherscan that are not included in the covalent nft data\n",
    "not_in_cov_opt = df_nft['contract_address'].isin([\n",
    "    \"0x58816C70B488AE9760775d9fe04a9b010AF8896B\", # OP Punks\n",
    "    \"0x0deaAc29d8A3d4EbBAAa3eCd3cC97C9deF00f720\", # OaycNFT (OAYC)\n",
    "    \"0xee834843B5A9e7C1a25Af04274D9d18De5308Cba\"  # Skeleton ERA &#128128; (SKE)\n",
    "]).any()\n",
    "\n",
    "print(not_in_cov_opt)"
   ]
  }
 ],
 "metadata": {
  "kernelspec": {
   "display_name": "Python 3.11.5 ('base')",
   "language": "python",
   "name": "python3"
  },
  "language_info": {
   "codemirror_mode": {
    "name": "ipython",
    "version": 3
   },
   "file_extension": ".py",
   "mimetype": "text/x-python",
   "name": "python",
   "nbconvert_exporter": "python",
   "pygments_lexer": "ipython3",
   "version": "3.11.5"
  },
  "orig_nbformat": 4,
  "vscode": {
   "interpreter": {
    "hash": "71be012a61db7e074fbf809d18f3570ed22f9b38595f28e2ba8b6549f1bc6a09"
   }
  }
 },
 "nbformat": 4,
 "nbformat_minor": 2
}
